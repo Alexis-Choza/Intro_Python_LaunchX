{
 "cells": [
  {
   "cell_type": "markdown",
   "metadata": {},
   "source": [
    "# Detector de Asteroides\n",
    "\n",
    "#### Operadores And & Or"
   ]
  },
  {
   "cell_type": "code",
   "execution_count": 23,
   "metadata": {},
   "outputs": [
    {
     "name": "stdout",
     "output_type": "stream",
     "text": [
      "Alerta!!! Se aproxima un asteroide a 49km/h.\n"
     ]
    }
   ],
   "source": [
    "# Añadir el código necesario para crear una variable que guarde la velocidad del asteroide.\n",
    "# Escribe una expresión de prueba para calcular si necesita una advertencia.\n",
    "# Agregue las instrucciones que se ejecutarán si la expresión de prueba es true o false.\n",
    "\n",
    "velAsteroid = input(\"Velocidad del ASteroide (km/h)\")\n",
    "\n",
    "if int(velAsteroid) > 25:\n",
    "    print('Alerta!!! Se aproxima un asteroide a ' + velAsteroid + 'km/h.')\n",
    "else:\n",
    "    print('No hay peligro de Asteroide.')\n",
    "\n"
   ]
  },
  {
   "cell_type": "code",
   "execution_count": 25,
   "metadata": {},
   "outputs": [
    {
     "name": "stdout",
     "output_type": "stream",
     "text": [
      "¡Hay una luz en el cielo!\n"
     ]
    }
   ],
   "source": [
    "# Agrega el código para crear una variable para un asteroide que viaja a 19 km/s\n",
    "# Escribe varias expresiones de prueba para determinar si puedes ver el rayo de luz desde la tierra\n",
    "# Agrega las instrucciones que se ejecutarán si las expresiones de prueba son True o False\n",
    "\n",
    "asteroide = 20\n",
    "if asteroide > 20:\n",
    "    print('¡Hay una luz en el cielo!')\n",
    "elif asteroide == 20:\n",
    "    print('¡Hay una luz en el cielo!')\n",
    "else:\n",
    "    print('No hay peligro de Asteroide!')"
   ]
  },
  {
   "cell_type": "code",
   "execution_count": 27,
   "metadata": {},
   "outputs": [
    {
     "name": "stdout",
     "output_type": "stream",
     "text": [
      "Alerta!!! Se aproxima un asteroide a 30km/h.\n"
     ]
    }
   ],
   "source": [
    "# Agrega el código para crear nuevas variables para la velocidad y el tamaño del asteroide\n",
    "# Para probar el código, prueba con varias velocidades y tamaños\n",
    "# Escribe varias expresiones de prueba o combinaciones de expresiones de prueba para determinar qué mensaje se debe enviar a Tierra.\n",
    "\n",
    "velAsteroid = input(\"Velocidad del ASteroide (km/h)\")\n",
    "tamAsteroid = input(\"Tamaño del ASteroide (mts)\")\n",
    "\n",
    "if int(velAsteroid) > 25 and int(tamAsteroid) > 25:\n",
    "    print('Alerta!!! Se aproxima un asteroide a ' + velAsteroid + 'km/h.')\n",
    "elif int(velAsteroid) >= 20:\n",
    "    print('¡Hay una luz en el cielo!')\n",
    "elif int(tamAsteroid) < 25:\n",
    "    print('No hay peligro de Asteroide!')\n",
    "else:\n",
    "    print('No hay peligro de Asteroide!')"
   ]
  }
 ],
 "metadata": {
  "interpreter": {
   "hash": "aee8b7b246df8f9039afb4144a1f6fd8d2ca17a180786b69acc140d282b71a49"
  },
  "kernelspec": {
   "display_name": "Python 3.10.2 64-bit",
   "language": "python",
   "name": "python3"
  },
  "language_info": {
   "codemirror_mode": {
    "name": "ipython",
    "version": 3
   },
   "file_extension": ".py",
   "mimetype": "text/x-python",
   "name": "python",
   "nbconvert_exporter": "python",
   "pygments_lexer": "ipython3",
   "version": "3.10.2"
  },
  "orig_nbformat": 4
 },
 "nbformat": 4,
 "nbformat_minor": 2
}
