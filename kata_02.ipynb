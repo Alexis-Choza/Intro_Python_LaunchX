{
 "cells": [
  {
   "cell_type": "markdown",
   "metadata": {},
   "source": [
    "# venv - Entorno Virtual (Virtual ENVironment)"
   ]
  },
  {
   "cell_type": "markdown",
   "metadata": {},
   "source": [
    "### Crear un Entorno Virtual\n",
    "\n",
    "- Posicionarse en la carpeta deseada\n",
    "- Llamar al modulo venv \n",
    "~~~\n",
    "python3 -m venv env\n",
    "~~~\n",
    "- Los archivos del programa deben ir en /src\n",
    "\n",
    "### Activar el Entorno Virtual\n",
    "\n",
    "- Activar el entorno llamando al script \"activate\"\n",
    "~~~\n",
    " # Bash | Consola\n",
    "  # Windows\n",
    "  env\\bin\\activate\n",
    "\n",
    "  # Linux, WSL o macOS\n",
    "  source env/bin/activate\n",
    "~~~\n",
    "\n",
    "- Salir del entorno llamando al script \"deactivate\"\n",
    "~~~\n",
    "deactivate\n",
    "~~~\n",
    "\n",
    "### Instalar paquetes en el venv\n",
    "\n",
    "- En consola\n",
    "~~~\n",
    "pip install python-dateutil\n",
    "~~~\n",
    "\n",
    "- En notebook\n",
    "~~~\n",
    "!pip install python-dateutil \n",
    "~~~\n",
    "\n",
    "- Ver paquetes instalados\n",
    "~~~\n",
    "pip freeze\n",
    "~~~"
   ]
  },
  {
   "cell_type": "markdown",
   "metadata": {},
   "source": []
  },
  {
   "cell_type": "code",
   "execution_count": null,
   "metadata": {},
   "outputs": [],
   "source": []
  }
 ],
 "metadata": {
  "language_info": {
   "name": "python"
  },
  "orig_nbformat": 4
 },
 "nbformat": 4,
 "nbformat_minor": 2
}
